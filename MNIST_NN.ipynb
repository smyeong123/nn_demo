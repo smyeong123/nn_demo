{
 "cells": [
  {
   "cell_type": "markdown",
   "id": "25ab2279-d39e-4556-9d04-1318ee9c6673",
   "metadata": {},
   "source": [
    "# MNIST Neural Network Implementation"
   ]
  },
  {
   "cell_type": "code",
   "execution_count": 1,
   "id": "de03bf61",
   "metadata": {},
   "outputs": [
    {
     "name": "stderr",
     "output_type": "stream",
     "text": [
      "2025-02-28 13:43:56.652851: I tensorflow/core/platform/cpu_feature_guard.cc:193] This TensorFlow binary is optimized with oneAPI Deep Neural Network Library (oneDNN) to use the following CPU instructions in performance-critical operations:  SSE4.1 SSE4.2\n",
      "To enable them in other operations, rebuild TensorFlow with the appropriate compiler flags.\n"
     ]
    },
    {
     "name": "stdout",
     "output_type": "stream",
     "text": [
      "Intel MKL WARNING: Support of Intel(R) Streaming SIMD Extensions 4.2 (Intel(R) SSE4.2) enabled only processors has been deprecated. Intel oneAPI Math Kernel Library 2025.0 will require Intel(R) Advanced Vector Extensions (Intel(R) AVX) instructions.\n",
      "Intel MKL WARNING: Support of Intel(R) Streaming SIMD Extensions 4.2 (Intel(R) SSE4.2) enabled only processors has been deprecated. Intel oneAPI Math Kernel Library 2025.0 will require Intel(R) Advanced Vector Extensions (Intel(R) AVX) instructions.\n"
     ]
    }
   ],
   "source": [
    "from tensorflow.keras.datasets import mnist\n",
    "import os, matplotlib.pyplot as plt\n",
    "from matplotlib.image import imread\n",
    "from PIL import Image\n",
    "from utils import *"
   ]
  },
  {
   "cell_type": "markdown",
   "id": "34848dca-6c4b-4b54-8ec8-2ca47c99f161",
   "metadata": {},
   "source": [
    "## Generate Pickle File from Tensorflow library"
   ]
  },
  {
   "cell_type": "code",
   "execution_count": 2,
   "id": "2f84a614-53a3-4696-8e34-40555fca1081",
   "metadata": {},
   "outputs": [
    {
     "name": "stdout",
     "output_type": "stream",
     "text": [
      "MNIST data saved as mnist.pickle\n"
     ]
    }
   ],
   "source": [
    "import pickle\n",
    "\n",
    "# Load MNIST data\n",
    "(train_X, train_y), (test_X, test_y) = mnist.load_data()\n",
    "\n",
    "# Create a dictionary with all the data\n",
    "mnist_data = {\n",
    "    'train_X': train_X,\n",
    "    'train_y': train_y,\n",
    "    'test_X': test_X,\n",
    "    'test_y': test_y\n",
    "}\n",
    "\n",
    "# Save as pickle file\n",
    "with open('datasets/mnist.pickle', 'wb') as f:\n",
    "    pickle.dump(mnist_data, f)\n",
    "\n",
    "print(\"MNIST data saved as mnist.pickle\")"
   ]
  },
  {
   "cell_type": "markdown",
   "id": "049acca5-f4d6-4215-92c5-6fbbba68cd5f",
   "metadata": {},
   "source": [
    "## Load the MNIST dataset"
   ]
  },
  {
   "cell_type": "code",
   "execution_count": 3,
   "id": "353d4207-e306-43fa-a6cc-4016710b69a5",
   "metadata": {},
   "outputs": [],
   "source": [
    "def load_data():\n",
    "    (train_X, train_y), (test_X, test_y) = mnist.load_data()\n",
    "    \n",
    "    return (train_X, train_y), (test_X, test_y)\n",
    "    \n",
    "def get_data():\n",
    "    (train_X, train_y), (test_X, test_y) = load_data()\n",
    "    \n",
    "    # Flatten the images (reshape from 28x28 to 784 features)\n",
    "    train_X_flat = train_X.reshape(train_X.shape[0], -1)\n",
    "    test_X_flat = test_X.reshape(test_X.shape[0], -1)\n",
    "    \n",
    "    # Normalize pixel values to range [0, 1]\n",
    "    train_X_normalized = train_X_flat / 255.0\n",
    "    test_X_normalized = test_X_flat / 255.0\n",
    "\n",
    "    # print(train_X_normalized.shape)\n",
    "    # print(train_y.shape)\n",
    "    # print(test_X_normalized.shape)\n",
    "    # print(test_y.shape)\n",
    "    \n",
    "    return test_X_normalized, test_y\n",
    "    \n",
    "def init_network():\n",
    "    with open('datasets/sample_weight.pkl', 'rb') as f:\n",
    "        network = pickle.load(f)\n",
    "        \n",
    "    return network"
   ]
  },
  {
   "cell_type": "code",
   "execution_count": 4,
   "id": "5ff5df98-2e37-4a9a-a39e-2a7091a0972c",
   "metadata": {},
   "outputs": [],
   "source": [
    "def predict(network, x):\n",
    "    W1, W2, W3 = network['W1'], network['W2'], network['W3']\n",
    "    b1, b2, b3 = network['b1'], network['b2'], network['b3']\n",
    "\n",
    "    a1 = np.dot(x, W1) + b1\n",
    "    z1 = sigmoid(a1)\n",
    "    a2 = np.dot(z1, W2) + b2\n",
    "    z2 = sigmoid(a2) \n",
    "    a3 = np.dot(z2, W3) + b3\n",
    "    y = softmax(a3)\n",
    "\n",
    "    return y"
   ]
  },
  {
   "cell_type": "code",
   "execution_count": 5,
   "id": "067602ec-8f7a-4c63-8cd2-edaf34b96fa2",
   "metadata": {},
   "outputs": [
    {
     "name": "stdout",
     "output_type": "stream",
     "text": [
      "Label: 5\n",
      "Original shape: (28, 28)\n",
      "Reshaped to: (28, 28)\n"
     ]
    },
    {
     "data": {
      "image/png": "[encoded data removed]",
      "text/plain": [
       "<Figure size 640x480 with 1 Axes>"
      ]
     },
     "metadata": {},
     "output_type": "display_data"
    }
   ],
   "source": [
    "def img_show(img):\n",
    "    # Scale back to 0-255 range for display \n",
    "    img_255 = (img * 255).astype(np.uint8)\n",
    "    pil_img = Image.fromarray(img_255)\n",
    "    plt.imshow(img)\n",
    "    plt.show()\n",
    "\n",
    "# Get a sample\n",
    "(train_X, train_y), (test_X, test_y) = load_data()\n",
    "img = train_X[0]\n",
    "label = train_y[0]\n",
    "print(f\"Label: {label}\")\n",
    "\n",
    "print(f\"Original shape: {img.shape}\")\n",
    "img = img.reshape(28, 28)\n",
    "print(f\"Reshaped to: {img.shape}\")\n",
    "\n",
    "img_show(img)"
   ]
  },
  {
   "cell_type": "markdown",
   "id": "6aebc2d0-22f0-42fb-b42a-97946f98ecef",
   "metadata": {},
   "source": [
    "## Accuracy Computation"
   ]
  },
  {
   "cell_type": "code",
   "execution_count": 6,
   "id": "dae333dd-122e-43ea-aa2b-aaffcf9cbc13",
   "metadata": {},
   "outputs": [
    {
     "name": "stdout",
     "output_type": "stream",
     "text": [
      "Accuracy:0.9352\n"
     ]
    }
   ],
   "source": [
    "test_X, test_y = get_data()\n",
    "network = init_network()\n",
    "\n",
    "accuracy_cnt = 0\n",
    "for i in range(len(test_X)):\n",
    "    y = predict(network, test_X[i])\n",
    "    p = np.argmax(y)\n",
    "    if p == test_y[i]:\n",
    "        accuracy_cnt += 1\n",
    "print(\"Accuracy:\" + str(float(accuracy_cnt) / len(test_X)))"
   ]
  },
  {
   "cell_type": "markdown",
   "id": "4cb6a403-6ab9-40b1-8f2b-7cb8252408d9",
   "metadata": {},
   "source": [
    "## Batch Computation"
   ]
  },
  {
   "cell_type": "code",
   "execution_count": 7,
   "id": "a46ea707-3d34-4ec9-957f-de45df852b89",
   "metadata": {},
   "outputs": [
    {
     "name": "stdout",
     "output_type": "stream",
     "text": [
      "(10000, 784)\n",
      "(784,)\n",
      "(784, 50)\n",
      "(50, 100)\n",
      "(100, 10)\n"
     ]
    }
   ],
   "source": [
    "# The dimension of the data\n",
    "x, _ = get_data()\n",
    "network = init_network()\n",
    "W1, W2, W3 = network['W1'], network['W2'], network['W3']\n",
    "\n",
    "print(x.shape)\n",
    "print(x[0].shape)\n",
    "print(W1.shape)\n",
    "print(W2.shape)\n",
    "print(W3.shape)"
   ]
  },
  {
   "cell_type": "code",
   "execution_count": 12,
   "id": "abc8c18c-714a-44b8-9caa-5a545f416841",
   "metadata": {},
   "outputs": [
    {
     "name": "stdout",
     "output_type": "stream",
     "text": [
      "Accuracy:0.9352\n"
     ]
    }
   ],
   "source": [
    "test_x, test_y = get_data()\n",
    "network = init_network()\n",
    "\n",
    "batch_size = 100\n",
    "accuracy_cnt = 0\n",
    "for i in range(0, len(test_x), batch_size):\n",
    "    x_batch = x[i:i+batch_size]\n",
    "    y_batch = predict(network, x_batch)\n",
    "    p = np.argmax(y_batch, axis=1)\n",
    "    accuracy_cnt += np.sum(p == test_y[i:i+batch_size])\n",
    "print(\"Accuracy:\" + str(float(accuracy_cnt) / len(test_X)))"
   ]
  },
  {
   "cell_type": "code",
   "execution_count": null,
   "id": "b1c5b306-5a48-4f83-b285-c8f1e62b7f2c",
   "metadata": {},
   "outputs": [],
   "source": []
  },
  {
   "cell_type": "markdown",
   "id": "8797f90f-b25a-4522-80fe-0777e07761ad",
   "metadata": {},
   "source": [
    "## Sample NN implementation"
   ]
  },
  {
   "cell_type": "code",
   "execution_count": null,
   "id": "03fa8c21-b531-4b23-b1d5-82eb3a3ef65b",
   "metadata": {},
   "outputs": [],
   "source": [
    "import cv2\n",
    "import numpy as np\n",
    "import matplotlib.pyplot as plt\n",
    "\n",
    "# Load the uploaded image\n",
    "image_path = \"9.png\"\n",
    "img = cv2.imread(image_path, cv2.IMREAD_GRAYSCALE)\n",
    "\n",
    "# Display the original image\n",
    "plt.imshow(img, cmap='gray')\n",
    "plt.title(\"Original Image\")\n",
    "plt.axis(\"off\")\n",
    "plt.show()\n",
    "\n",
    "# Preprocessing: Resize, Invert, Normalize\n",
    "img = cv2.resize(img, (28, 28))\n",
    "img = cv2.bitwise_not(img)  # Invert colors if needed\n",
    "img = img / 255.0  # Normalize\n",
    "\n",
    "# Display the processed image\n",
    "plt.imshow(img, cmap='gray')\n",
    "plt.title(\"Processed Image\")\n",
    "plt.axis(\"off\")\n",
    "plt.show()\n",
    "\n",
    "# Reshape for model input\n",
    "img = img.reshape(1, 28, 28)  # Model expects (1, 28, 28)\n",
    "img.shape\n"
   ]
  },
  {
   "cell_type": "code",
   "execution_count": null,
   "id": "c8fe87b5-983b-47c6-a9c8-a0b0e4fec6a0",
   "metadata": {
    "scrolled": true
   },
   "outputs": [],
   "source": [
    "import numpy as np\n",
    "import cv2\n",
    "import matplotlib.pyplot as plt\n",
    "from tensorflow.keras.datasets import mnist\n",
    "import os\n",
    "\n",
    "def initialize_cnn(input_shape=(28, 28, 1)):\n",
    "    np.random.seed(42)\n",
    "    \n",
    "    # Calculate feature map sizes\n",
    "    conv1_output = (input_shape[0] - 3 + 1, input_shape[1] - 3 + 1, 32)\n",
    "    pool1_output = (conv1_output[0] // 2, conv1_output[1] // 2, 32)\n",
    "    conv2_output = (pool1_output[0] - 3 + 1, pool1_output[1] - 3 + 1, 64)\n",
    "    pool2_output = (conv2_output[0] // 2, conv2_output[1] // 2, 64)\n",
    "    flattened_size = pool2_output[0] * pool2_output[1] * pool2_output[2]\n",
    "    \n",
    "    params = {\n",
    "        \"W1\": np.random.randn(3, 3, 1, 32) * 0.01,\n",
    "        \"b1\": np.zeros((1, 1, 1, 32)),\n",
    "        \"W2\": np.random.randn(3, 3, 32, 64) * 0.01,\n",
    "        \"b2\": np.zeros((1, 1, 1, 64)),\n",
    "        \"W3\": np.random.randn(flattened_size, 128) * 0.01,\n",
    "        \"b3\": np.zeros((1, 128)),\n",
    "        \"W4\": np.random.randn(128, 10) * 0.01,\n",
    "        \"b4\": np.zeros((1, 10)),\n",
    "    }\n",
    "    return params\n",
    "\n",
    "def relu(Z):\n",
    "    return np.maximum(0, Z)\n",
    "\n",
    "def relu_derivative(Z):\n",
    "    return (Z > 0).astype(float)\n",
    "\n",
    "def softmax(Z):\n",
    "    exp_Z = np.exp(Z - np.max(Z, axis=1, keepdims=True))\n",
    "    return exp_Z / np.sum(exp_Z, axis=1, keepdims=True)\n",
    "\n",
    "def convolve(X, W, b):\n",
    "    batch_size, height, width, channels = X.shape\n",
    "    f_height, f_width, in_channels, out_channels = W.shape\n",
    "    out_height = height - f_height + 1\n",
    "    out_width = width - f_width + 1\n",
    "    Z = np.zeros((batch_size, out_height, out_width, out_channels))\n",
    "    \n",
    "    for i in range(out_height):\n",
    "        for j in range(out_width):\n",
    "            region = X[:, i:i+f_height, j:j+f_width, :]  # Shape: (batch_size, f_height, f_width, in_channels)\n",
    "            # Reshape region to match W for proper broadcasting\n",
    "            region_reshaped = region.reshape(batch_size, f_height, f_width, in_channels, 1)\n",
    "            W_reshaped = W.reshape(1, f_height, f_width, in_channels, out_channels)\n",
    "            # Multiply and sum the appropriate dimensions\n",
    "            Z[:, i, j, :] = np.sum(region_reshaped * W_reshaped, axis=(1, 2, 3)).reshape(batch_size, out_channels) + b\n",
    "    \n",
    "    return Z\n",
    "\n",
    "def max_pool(X, size=2, stride=2):\n",
    "    batch_size, height, width, channels = X.shape\n",
    "    out_height = (height - size) // stride + 1\n",
    "    out_width = (width - size) // stride + 1\n",
    "    pooled = np.zeros((batch_size, out_height, out_width, channels))\n",
    "    \n",
    "    for i in range(out_height):\n",
    "        for j in range(out_width):\n",
    "            region = X[:, i*stride:i*stride+size, j*stride:j*stride+size, :]\n",
    "            pooled[:, i, j, :] = np.max(region, axis=(1, 2))\n",
    "    \n",
    "    return pooled\n",
    "\n",
    "def compute_loss(Y_pred, Y_true):\n",
    "    m = Y_true.shape[0]\n",
    "    return -np.sum(Y_true * np.log(Y_pred + 1e-8)) / m\n",
    "\n",
    "def forward_propagation(X, params):\n",
    "    X = X.reshape(-1, 28, 28, 1)\n",
    "    Z1 = convolve(X, params[\"W1\"], params[\"b1\"])\n",
    "    A1 = relu(Z1)\n",
    "    P1 = max_pool(A1)\n",
    "    Z2 = convolve(P1, params[\"W2\"], params[\"b2\"])\n",
    "    A2 = relu(Z2)\n",
    "    P2 = max_pool(A2)\n",
    "    \n",
    "    F = P2.reshape(P2.shape[0], -1)\n",
    "    Z3 = np.dot(F, params[\"W3\"]) + params[\"b3\"]\n",
    "    A3 = relu(Z3)\n",
    "    Z4 = np.dot(A3, params[\"W4\"]) + params[\"b4\"]\n",
    "    A4 = softmax(Z4)\n",
    "    \n",
    "    cache = {\"A1\": A1, \"P1\": P1, \"A2\": A2, \"P2\": P2, \"A3\": A3, \"A4\": A4, \"F\": F}\n",
    "    return A4, cache\n",
    "\n",
    "def backward_propagation(X, Y, params, cache):\n",
    "    m = X.shape[0]\n",
    "    X = X.reshape(-1, 28, 28, 1)\n",
    "    A1, P1, A2, P2, A3, A4, F = cache[\"A1\"], cache[\"P1\"], cache[\"A2\"], cache[\"P2\"], cache[\"A3\"], cache[\"A4\"], cache[\"F\"]\n",
    "    \n",
    "    # Gradients for output layer\n",
    "    dZ4 = A4 - Y\n",
    "    dW4 = np.dot(A3.T, dZ4) / m\n",
    "    db4 = np.sum(dZ4, axis=0, keepdims=True) / m\n",
    "    \n",
    "    # Gradients for hidden fully connected layer\n",
    "    dA3 = np.dot(dZ4, params[\"W4\"].T)\n",
    "    dZ3 = dA3 * relu_derivative(A3)\n",
    "    dW3 = np.dot(F.T, dZ3) / m\n",
    "    db3 = np.sum(dZ3, axis=0, keepdims=True) / m\n",
    "    \n",
    "    # For this simplified implementation, we won't backpropagate through\n",
    "    # the convolutional layers as it's computationally intensive\n",
    "    # In a complete implementation, you would compute dW1, db1, dW2, db2 here\n",
    "    \n",
    "    gradients = {\"dW3\": dW3, \"db3\": db3, \"dW4\": dW4, \"db4\": db4}\n",
    "    return gradients\n",
    "\n",
    "def update_parameters(params, gradients, learning_rate):\n",
    "    for key in gradients.keys():\n",
    "        param_key = key[1:]  # Remove the 'd' prefix to get the parameter key\n",
    "        params[param_key] -= learning_rate * gradients[key]\n",
    "    return params\n",
    "\n",
    "def train_cnn(X, Y, params, learning_rate=0.01, epochs=10):\n",
    "    m = X.shape[0]\n",
    "    Y_one_hot = np.eye(10)[Y]\n",
    "    \n",
    "    for epoch in range(epochs):\n",
    "        Y_pred, cache = forward_propagation(X, params)\n",
    "        loss = compute_loss(Y_pred, Y_one_hot)\n",
    "        gradients = backward_propagation(X, Y_one_hot, params, cache)\n",
    "        \n",
    "        # Only update parameters we have gradients for\n",
    "        params[\"W3\"] -= learning_rate * gradients[\"dW3\"]\n",
    "        params[\"b3\"] -= learning_rate * gradients[\"db3\"]\n",
    "        params[\"W4\"] -= learning_rate * gradients[\"dW4\"]\n",
    "        params[\"b4\"] -= learning_rate * gradients[\"db4\"]\n",
    "        \n",
    "        print(f\"Epoch {epoch+1}/{epochs}, Loss: {loss:.4f}\")\n",
    "\n",
    "def preprocess_image(image_path):\n",
    "    if not os.path.exists(image_path):\n",
    "        raise FileNotFoundError(f\"File not found: {image_path}\")\n",
    "    img = cv2.imread(image_path, cv2.IMREAD_GRAYSCALE)\n",
    "    if img is None:\n",
    "        raise ValueError(\"Failed to load image. Check file format and path.\")\n",
    "    img = cv2.resize(img, (28, 28))\n",
    "    img = cv2.bitwise_not(img)\n",
    "    img = img / 255.0\n",
    "    img = img.reshape(1, 28, 28, 1)\n",
    "    return img\n",
    "\n",
    "(train_X, train_y), (test_X, test_y) = mnist.load_data()\n",
    "train_X = train_X / 255.0\n",
    "test_X = test_X / 255.0\n",
    "\n",
    "params = initialize_cnn()\n",
    "train_cnn(train_X[:1000], train_y[:1000], params, epochs=10)\n",
    "\n",
    "def predict_image(image_path, params):\n",
    "    try:\n",
    "        img = preprocess_image(image_path)\n",
    "        prediction, _ = forward_propagation(img, params)\n",
    "        return np.argmax(prediction, axis=1)[0]\n",
    "    except Exception as e:\n",
    "        return f\"Error: {str(e)}\"\n",
    "\n",
    "# Example usage\n",
    "image_path = '4.png'  # Change to the uploaded image path\n",
    "predicted_number = predict_image(image_path, params)\n",
    "print(f'Predicted number: {predicted_number}')\n"
   ]
  },
  {
   "cell_type": "code",
   "execution_count": null,
   "id": "bdcecd8e-e68c-46d4-8512-7094d3b42eef",
   "metadata": {},
   "outputs": [],
   "source": [
    "image_path = '9.png'  # Change to the uploaded image path\n",
    "predicted_number = predict_image(image_path, params)\n",
    "print(f'Predicted number: {predicted_number}')"
   ]
  },
  {
   "cell_type": "code",
   "execution_count": null,
   "id": "c15b87aa-0286-47b0-8c8d-365657a1df04",
   "metadata": {},
   "outputs": [],
   "source": []
  }
 ],
 "metadata": {
  "kernelspec": {
   "display_name": "Python (myenv)",
   "language": "python",
   "name": "myenv"
  },
  "language_info": {
   "codemirror_mode": {
    "name": "ipython",
    "version": 3
   },
   "file_extension": ".py",
   "mimetype": "text/x-python",
   "name": "python",
   "nbconvert_exporter": "python",
   "pygments_lexer": "ipython3",
   "version": "3.8.13"
  }
 },
 "nbformat": 4,
 "nbformat_minor": 5
}
